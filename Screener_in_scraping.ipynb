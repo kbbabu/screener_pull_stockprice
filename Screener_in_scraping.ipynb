{
  "nbformat": 4,
  "nbformat_minor": 0,
  "metadata": {
    "colab": {
      "name": "Screener.in_scraping.ipynb",
      "provenance": [],
      "authorship_tag": "ABX9TyPRom+EPpVF29Md/yQTPj91",
      "include_colab_link": true
    },
    "kernelspec": {
      "name": "python3",
      "display_name": "Python 3"
    },
    "language_info": {
      "name": "python"
    }
  },
  "cells": [
    {
      "cell_type": "markdown",
      "metadata": {
        "id": "view-in-github",
        "colab_type": "text"
      },
      "source": [
        "<a href=\"https://colab.research.google.com/github/kbbabu/screener_pull_stockprice/blob/main/Screener_in_scraping.ipynb\" target=\"_parent\"><img src=\"https://colab.research.google.com/assets/colab-badge.svg\" alt=\"Open In Colab\"/></a>"
      ]
    },
    {
      "cell_type": "code",
      "execution_count": 1,
      "metadata": {
        "id": "3avg3tF1KC-_"
      },
      "outputs": [],
      "source": [
        "import requests\n",
        "page = requests.get('https://www.screener.in/company/WIPRO/consolidated/')"
      ]
    },
    {
      "cell_type": "code",
      "source": [
        "from bs4 import BeautifulSoup\n",
        "soup = BeautifulSoup(page.content,'html.parser')"
      ],
      "metadata": {
        "id": "JXOOWM4sKV8u"
      },
      "execution_count": 2,
      "outputs": []
    },
    {
      "cell_type": "code",
      "source": [
        "def dummy(page):\n",
        "  soup = BeautifulSoup(page.content,'html.parser')  \n",
        "  c = soup.find('h1',{'class':'margin-0'})\n",
        "  name = c.string\n",
        "  d = soup.find('div',{'class':'company-ratios'})\n",
        "  e = d.findAll('span')\n",
        "  price = e[5].string\n",
        "  mcap = e[2].string\n",
        "  hprice_52week = e[8].string\n",
        "  lprice_52week = e[9].string\n",
        "  pe = e[12].string\n",
        "  bookvalue =e[15].string\n",
        "  div_yield =e[18].string\n",
        "  ROCE =e[21].string\n",
        "  ROE = e[24].string\n",
        "  facevalue = e[27].string\n",
        "  return (name,price,mcap,hprice_52week,lprice_52week,pe,bookvalue,div_yield,ROCE,ROE,facevalue)\n"
      ],
      "metadata": {
        "id": "3gSmUQ1wKd2f"
      },
      "execution_count": 3,
      "outputs": []
    },
    {
      "cell_type": "code",
      "source": [
        "print(dummy(page))"
      ],
      "metadata": {
        "colab": {
          "base_uri": "https://localhost:8080/"
        },
        "id": "TBtbN6wdKjEg",
        "outputId": "f2db74c8-5b06-4448-feb6-168c403694b4"
      },
      "execution_count": 4,
      "outputs": [
        {
          "output_type": "stream",
          "name": "stdout",
          "text": [
            "('Wipro Ltd', '421', '230,670', '740', '402', '18.9', '119', '1.43', '21.1', '20.3', '2.00')\n"
          ]
        }
      ]
    },
    {
      "cell_type": "code",
      "source": [
        "import pandas as pd\n",
        "a = ['0','201-400','401-600','601-800','801-1000','1001-1200','1201-1400','1401-1600','1601-1800','1801-2000','2001-2200','2201-2400','2401-2600','2601-2800','2801-2900']\n",
        "all_code = []\n",
        "for i in a:\n",
        "    all_code.append(f\"https://money.rediff.com/companies/nseall/{i}\")\n",
        "all_code_values = []\n",
        "for i in all_code:\n",
        "    all_code_values.append(pd.read_html(i))\n",
        "url_captured = []\n",
        "for i in range(15):\n",
        "    j = (all_code_values[i][1].Code.values)\n",
        "    for z in j:\n",
        "        url_captured.append(f\"https://www.screener.in/company/{z}/consolidated/\")\n",
        "    j = (all_code_values[i][2].Code.values)\n",
        "    for z in j:\n",
        "        url_captured.append(f\"https://www.screener.in/company/{z}/consolidated/\")\n",
        "lin = []\n",
        "for i in url_captured:\n",
        "  page = requests.get(i)\n",
        "  lin.append(page)\n",
        "\n",
        "dum = []\n",
        "for i in lin:\n",
        "  try:\n",
        "    p = dummy(i)\n",
        "    dum.append(p)\n",
        "  except:\n",
        "    pass"
      ],
      "metadata": {
        "id": "utWPkuxYKsiZ"
      },
      "execution_count": null,
      "outputs": []
    },
    {
      "cell_type": "code",
      "source": [
        "tot = pd.DataFrame(dum)\n",
        "tot.to_excel(\"/screener_demo.xlsx\")"
      ],
      "metadata": {
        "id": "nSdrn_71KtXW"
      },
      "execution_count": null,
      "outputs": []
    }
  ]
}